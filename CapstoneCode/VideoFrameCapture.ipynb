{
 "cells": [
  {
   "cell_type": "markdown",
   "metadata": {},
   "source": [
    "This Program will take the world index from FrameCapture and extract the exact frames from the video file"
   ]
  },
  {
   "cell_type": "code",
   "execution_count": 13,
   "metadata": {},
   "outputs": [],
   "source": [
    "import numpy as np\n",
    "import cv2 \n",
    "import pandas as pd\n",
    "import pytesseract"
   ]
  },
  {
   "cell_type": "code",
   "execution_count": 11,
   "metadata": {},
   "outputs": [],
   "source": [
    "#Assigns the video from the file to a variable\n",
    "cap = cv2.VideoCapture(1)\n",
    "i = 0\n",
    "while(cap.isOpened()):\n",
    "    ret, frame = cap.read()\n",
    "    if ret == False:\n",
    "        break\n",
    "    cv2.imwrite('kang'+str(i)+'.jpg',frame)\n",
    "    i+=1\n",
    " \n",
    "cap.release()\n"
   ]
  },
  {
   "cell_type": "code",
   "execution_count": 14,
   "metadata": {},
   "outputs": [
    {
     "ename": "AttributeError",
     "evalue": "'NoneType' object has no attribute 'shape'",
     "output_type": "error",
     "traceback": [
      "\u001b[1;31m---------------------------------------------------------------------------\u001b[0m",
      "\u001b[1;31mAttributeError\u001b[0m                            Traceback (most recent call last)",
      "\u001b[1;32mw:\\recordings\\CapstoneCode\\VideoFrameCapture.ipynb Cell 4'\u001b[0m in \u001b[0;36m<cell line: 13>\u001b[1;34m()\u001b[0m\n\u001b[0;32m     <a href='vscode-notebook-cell:/w%3A/recordings/CapstoneCode/VideoFrameCapture.ipynb#ch0000003?line=13'>14</a>\u001b[0m cntr \u001b[39m+\u001b[39m\u001b[39m=\u001b[39m\u001b[39m1\u001b[39m\n\u001b[0;32m     <a href='vscode-notebook-cell:/w%3A/recordings/CapstoneCode/VideoFrameCapture.ipynb#ch0000003?line=14'>15</a>\u001b[0m \u001b[39mif\u001b[39;00m((cntr\u001b[39m%\u001b[39m\u001b[39m20\u001b[39m)\u001b[39m==\u001b[39m\u001b[39m0\u001b[39m):\n\u001b[1;32m---> <a href='vscode-notebook-cell:/w%3A/recordings/CapstoneCode/VideoFrameCapture.ipynb#ch0000003?line=15'>16</a>\u001b[0m     imgH, imgW,_\u001b[39m=\u001b[39mframe\u001b[39m.\u001b[39;49mshape\n\u001b[0;32m     <a href='vscode-notebook-cell:/w%3A/recordings/CapstoneCode/VideoFrameCapture.ipynb#ch0000003?line=16'>17</a>\u001b[0m     x1,y1,w1,h1 \u001b[39m=\u001b[39m \u001b[39m0\u001b[39m,\u001b[39m0\u001b[39m,imgH,imgW\n\u001b[0;32m     <a href='vscode-notebook-cell:/w%3A/recordings/CapstoneCode/VideoFrameCapture.ipynb#ch0000003?line=17'>18</a>\u001b[0m     imgchar \u001b[39m=\u001b[39m pytesseract\u001b[39m.\u001b[39mimage_to_string(frame)\n",
      "\u001b[1;31mAttributeError\u001b[0m: 'NoneType' object has no attribute 'shape'"
     ]
    }
   ],
   "source": [
    "#code from https://www.youtube.com/watch?v=Y7XBsFzByTQ&t=289s\n",
    "\n",
    "cap = cv2.VideoCapture(1)\n",
    "\n",
    "#checking \n",
    "if not cap.isOpened():\n",
    "    cap = cv2.VideoCapture(0)\n",
    "if not cap.isOpened():\n",
    "    raise IOError(\"Cannot open video\")\n",
    "\n",
    "cntr = 0\n",
    "while True:\n",
    "    ret,frame=cap.read()\n",
    "    cntr +=1\n",
    "    if((cntr%20)==0):\n",
    "        imgH, imgW,_=frame.shape\n",
    "        x1,y1,w1,h1 = 0,0,imgH,imgW\n",
    "        imgchar = pytesseract.image_to_string(frame)\n",
    "        imgboxes = pytesseract.image_to_boxes(frame)\n",
    "        for boxes in imgboxes.splitlines():\n",
    "            boxes= boxes.split(' ')\n",
    "            x,y,w,h= int(boxes[1]),int(boxes[2]),int(boxes[3]),int(boxes[4])\n",
    "            cv2.rectangle(frame, (x, imgH-y),(w,imgH-h),(0,0,255),3)"
   ]
  }
 ],
 "metadata": {
  "interpreter": {
   "hash": "19491e59d5949c78898f6b7a1eeb59c5ec38491a6c7e455f2931a6691028060e"
  },
  "kernelspec": {
   "display_name": "Python 3.8.5 32-bit",
   "language": "python",
   "name": "python3"
  },
  "language_info": {
   "codemirror_mode": {
    "name": "ipython",
    "version": 3
   },
   "file_extension": ".py",
   "mimetype": "text/x-python",
   "name": "python",
   "nbconvert_exporter": "python",
   "pygments_lexer": "ipython3",
   "version": "3.8.10"
  },
  "orig_nbformat": 4
 },
 "nbformat": 4,
 "nbformat_minor": 2
}
