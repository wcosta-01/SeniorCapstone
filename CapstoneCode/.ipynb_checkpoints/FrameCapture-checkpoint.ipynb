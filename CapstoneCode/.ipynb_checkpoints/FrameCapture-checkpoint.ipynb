{
 "cells": [
  {
   "cell_type": "code",
   "execution_count": 22,
   "metadata": {},
   "outputs": [],
   "source": [
    "#step 1 import cvs files\n",
    "#step 2 determine when the pupil is staying in the consistant area.\n",
    "#step 3 select the range of frames to start, choose the frame closest to the middle of the selected range\n",
    "#step 4 Send frame to Easyocr file."
   ]
  },
  {
   "cell_type": "code",
   "execution_count": 23,
   "metadata": {},
   "outputs": [],
   "source": [
    "#imports\n",
    "#I have no idea what we're gonna need....\n",
    "import pandas as pd\n",
    "import numpy as np"
   ]
  },
  {
   "cell_type": "markdown",
   "metadata": {},
   "source": [
    "# Importing the files in different formats"
   ]
  },
  {
   "cell_type": "code",
   "execution_count": 92,
   "metadata": {},
   "outputs": [],
   "source": [
    "points = [\"world_index\",\"gaze_point_3d_x\", \"gaze_point_3d_y\", \"gaze_point_3d_z\"]\n",
    "\n",
    "#table that consists of world_index and the gaze point locations\n",
    "gaze_point_3d = pd.read_csv(\"C:/Users/deadg/recordings/CapstoneCode/gaze_positions.csv\", usecols=points)\n",
    "\n",
    "#A simplified table that consists of the x and y positions in the world image in normalized coordinates \n",
    "#norm_pt_x = ['world_index', 'norm_pos_x']\n",
    "#norm_pt_y = ['world_index', 'norm_pos_y']\n",
    "#norm_pt_w = ['world_index']\n",
    "\n",
    "norm_pt = ['world_index', 'norm_pos_x', 'norm_pos_y']\n",
    "gaze_pos = pd.read_csv(\"C:/Users/deadg/recordings/CapstoneCode/gaze_positions.csv\", usecols=norm_pt)\n",
    "\n",
    "\n",
    "#gaze_pos_x = pd.read_csv(\"C:/Users/deadg/recordings/CapstoneCode/gaze_positions.csv\", usecols=norm_pt_x)\n",
    "#gaze_pos_y = pd.read_csv(\"C:/Users/deadg/recordings/CapstoneCode/gaze_positions.csv\", usecols=norm_pt_y)\n",
    "#gaze_pos_w = pd.read_csv(\"C:/Users/deadg/recordings/CapstoneCode/gaze_positions.csv\", usecols=norm_pt_w)\n",
    "\n",
    "#contains the positional data for the users pupil(where the user is looking at a certian point in the video)\n",
    "gaze_positions = pd.read_csv(r'C:/Users/deadg/recordings/CapstoneCode/gaze_positions.csv')\n",
    "\n",
    "#Contains World Timestamps\n",
    "world_timestamps = pd.read_csv(r'C:/Users/deadg/recordings/CapstoneCode/world_timestamps.csv')\n",
    "\n",
    "#containts pupil positions\n",
    "pupil_positions = pd.read_csv(r'C:/Users/deadg/recordings/CapstoneCode/pupil_positions.csv')"
   ]
  },
  {
   "cell_type": "code",
   "execution_count": 93,
   "metadata": {},
   "outputs": [
    {
     "data": {
      "text/html": [
       "<div>\n",
       "<style scoped>\n",
       "    .dataframe tbody tr th:only-of-type {\n",
       "        vertical-align: middle;\n",
       "    }\n",
       "\n",
       "    .dataframe tbody tr th {\n",
       "        vertical-align: top;\n",
       "    }\n",
       "\n",
       "    .dataframe thead th {\n",
       "        text-align: right;\n",
       "    }\n",
       "</style>\n",
       "<table border=\"1\" class=\"dataframe\">\n",
       "  <thead>\n",
       "    <tr style=\"text-align: right;\">\n",
       "      <th></th>\n",
       "      <th>world_index</th>\n",
       "      <th>norm_pos_x</th>\n",
       "      <th>norm_pos_y</th>\n",
       "    </tr>\n",
       "  </thead>\n",
       "  <tbody>\n",
       "    <tr>\n",
       "      <th>0</th>\n",
       "      <td>0</td>\n",
       "      <td>0.502361</td>\n",
       "      <td>0.452704</td>\n",
       "    </tr>\n",
       "    <tr>\n",
       "      <th>1</th>\n",
       "      <td>0</td>\n",
       "      <td>0.499451</td>\n",
       "      <td>0.456538</td>\n",
       "    </tr>\n",
       "    <tr>\n",
       "      <th>2</th>\n",
       "      <td>1</td>\n",
       "      <td>0.503818</td>\n",
       "      <td>0.457255</td>\n",
       "    </tr>\n",
       "    <tr>\n",
       "      <th>3</th>\n",
       "      <td>1</td>\n",
       "      <td>0.504041</td>\n",
       "      <td>0.456816</td>\n",
       "    </tr>\n",
       "    <tr>\n",
       "      <th>4</th>\n",
       "      <td>2</td>\n",
       "      <td>0.504099</td>\n",
       "      <td>0.454287</td>\n",
       "    </tr>\n",
       "  </tbody>\n",
       "</table>\n",
       "</div>"
      ],
      "text/plain": [
       "   world_index  norm_pos_x  norm_pos_y\n",
       "0            0    0.502361    0.452704\n",
       "1            0    0.499451    0.456538\n",
       "2            1    0.503818    0.457255\n",
       "3            1    0.504041    0.456816\n",
       "4            2    0.504099    0.454287"
      ]
     },
     "execution_count": 93,
     "metadata": {},
     "output_type": "execute_result"
    }
   ],
   "source": [
    "#To complete step 2 we have to figure out the data looks like when the user is focused on an object\n",
    "#The distance or size of an object is goind to present an issue with the way I have decided to select the frame\n",
    "pd.set_option(\"display.max_rows\", None, \"display.max_columns\", None)\n",
    "gaze_pos.head()"
   ]
  },
  {
   "cell_type": "code",
   "execution_count": 94,
   "metadata": {},
   "outputs": [],
   "source": [
    "# Search through the data frames to find the desired data\n",
    "pos_x = gaze_pos[\"norm_pos_x\"]    "
   ]
  },
  {
   "cell_type": "code",
   "execution_count": null,
   "metadata": {},
   "outputs": [],
   "source": [
    "# adding the x values to a tempary df on the condision if the x position goes stays within .10 of the select position\n",
    "\n",
    "pos_x = gaze_pos[\"norm_pos_x\"]    \n",
    "\n",
    "#creating a tempary dataframe\n",
    "df = ['pos_x']\n",
    "temp = pd.DataFrame(df)\n",
    "\n",
    "# The loop\n",
    "count = 0\n",
    "while count != pos_x.size:\n",
    "    current = pos_x.iloc[count]\n",
    "    for x in range(pos_x.size):\n",
    "        if current <= (current + .10) or current >= (current + .10):\n",
    "            temp.insert(count, 'pos_x', current, True)\n",
    "    count +=1\n",
    "\n",
    "print(temp)            "
   ]
  },
  {
   "cell_type": "code",
   "execution_count": 66,
   "metadata": {},
   "outputs": [
    {
     "name": "stdout",
     "output_type": "stream",
     "text": [
      "5936\n"
     ]
    },
    {
     "ename": "AttributeError",
     "evalue": "'numpy.ndarray' object has no attribute 'append'",
     "output_type": "error",
     "traceback": [
      "\u001b[1;31m---------------------------------------------------------------------------\u001b[0m",
      "\u001b[1;31mAttributeError\u001b[0m                            Traceback (most recent call last)",
      "\u001b[1;32m<ipython-input-66-6c3f3f016a0e>\u001b[0m in \u001b[0;36m<module>\u001b[1;34m\u001b[0m\n\u001b[0;32m      9\u001b[0m \u001b[1;33m\u001b[0m\u001b[0m\n\u001b[0;32m     10\u001b[0m \u001b[1;32mfor\u001b[0m \u001b[0mx\u001b[0m \u001b[1;32min\u001b[0m \u001b[0mrange\u001b[0m\u001b[1;33m(\u001b[0m\u001b[0mgaze_x\u001b[0m\u001b[1;33m.\u001b[0m\u001b[0msize\u001b[0m \u001b[1;33m//\u001b[0m \u001b[1;36m2\u001b[0m\u001b[1;33m)\u001b[0m\u001b[1;33m:\u001b[0m\u001b[1;33m\u001b[0m\u001b[1;33m\u001b[0m\u001b[0m\n\u001b[1;32m---> 11\u001b[1;33m     \u001b[0mcurrentX\u001b[0m\u001b[1;33m.\u001b[0m\u001b[0mappend\u001b[0m\u001b[1;33m(\u001b[0m\u001b[0mgaze_x\u001b[0m\u001b[1;33m[\u001b[0m\u001b[1;33m:\u001b[0m\u001b[1;33m,\u001b[0m \u001b[1;33m]\u001b[0m\u001b[1;33m)\u001b[0m\u001b[1;33m\u001b[0m\u001b[1;33m\u001b[0m\u001b[0m\n\u001b[0m\u001b[0;32m     12\u001b[0m \u001b[1;33m\u001b[0m\u001b[0m\n\u001b[0;32m     13\u001b[0m \u001b[0mprint\u001b[0m\u001b[1;33m(\u001b[0m\u001b[1;34m\"Current X = \"\u001b[0m\u001b[1;33m,\u001b[0m \u001b[0mcurrentX\u001b[0m\u001b[1;33m)\u001b[0m\u001b[1;33m\u001b[0m\u001b[1;33m\u001b[0m\u001b[0m\n",
      "\u001b[1;31mAttributeError\u001b[0m: 'numpy.ndarray' object has no attribute 'append'"
     ]
    }
   ],
   "source": [
    "\n",
    "#if the x value goes .10 above the current position\n",
    "#Finding a group or series of numbers where the rate of change is less then .10 and saving them in a list\n",
    "# Take just the second column from the array not the entire array.\n",
    "# Look into maybe going back to Data Frames to make it easier to search for the desired variables\n",
    "\n",
    "print(gaze_x.size)\n",
    "x = 0\n",
    "\n",
    "for x in range(gaze_x.size // 2):\n",
    "    currentX.append(gaze_x[:, ])\n",
    "\n",
    "print(\"Current X = \", currentX)\n",
    "#print(\"This is tempList \",tempList)"
   ]
  },
  {
   "cell_type": "code",
   "execution_count": null,
   "metadata": {},
   "outputs": [],
   "source": []
  }
 ],
 "metadata": {
  "kernelspec": {
   "display_name": "Python 3",
   "language": "python",
   "name": "python3"
  },
  "language_info": {
   "codemirror_mode": {
    "name": "ipython",
    "version": 3
   },
   "file_extension": ".py",
   "mimetype": "text/x-python",
   "name": "python",
   "nbconvert_exporter": "python",
   "pygments_lexer": "ipython3",
   "version": "3.8.3"
  }
 },
 "nbformat": 4,
 "nbformat_minor": 4
}
