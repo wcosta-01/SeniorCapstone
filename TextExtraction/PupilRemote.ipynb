{
 "cells": [
  {
   "cell_type": "code",
   "execution_count": 1,
   "metadata": {},
   "outputs": [],
   "source": [
    "\"\"\"\n",
    "(*)~----------------------------------------------------------------------------------\n",
    " Pupil Helpers\n",
    " Copyright (C) 2012-2016  Pupil Labs\n",
    " Distributed under the terms of the GNU Lesser General Public License (LGPL v3.0).\n",
    " License details are in the file license.txt, distributed as part of this software.\n",
    "----------------------------------------------------------------------------------~(*)\n",
    "\"\"\"\n",
    "\n",
    "\"\"\"\n",
    "This example demonstrates how to send simple messages to the Pupil Remote plugin\n",
    "    'R' start recording with auto generated session name\n",
    "    'R rec_name' start recording and name new session name: rec_name\n",
    "    'r' stop recording\n",
    "    'C' start currently selected calibration\n",
    "    'c' stop currently selected calibration\n",
    "    'T 1234.56' Timesync: make timestamps count form 1234.56 from now on.\n",
    "    't' get pupil timestamp\n",
    "    '{notification}' send a notification via pupil remote.\n",
    "\"\"\"\n",
    "import zmq\n",
    "import msgpack\n",
    "from time import sleep, time\n",
    "#https://docs.pupil-labs.com/developer/core/network-api/#pupil-remote\n",
    "ctx = zmq.Context()\n",
    "pupil_remote = zmq.Socket(ctx, zmq.REQ)\n",
    "pupil_remote.connect('tcp://127.0.0.1:50020')"
   ]
  },
  {
   "cell_type": "code",
   "execution_count": null,
   "metadata": {},
   "outputs": [],
   "source": [
    "#When called will start recording\n",
    "# timeToRecord is an int and is used as the amount of seconds the recording needs to be\n",
    "def recorde(timeToRecord): # start recording\n",
    "    pupil_remote.send_string('R')\n",
    "    print(pupil_remote.recv_string())\n",
    "\n",
    "    sleep(timeToRecord)\n",
    "    pupil_remote.send_string('r')\n",
    "    print(pupil_remote.recv_string())"
   ]
  },
  {
   "cell_type": "code",
   "execution_count": null,
   "metadata": {},
   "outputs": [],
   "source": []
  }
 ],
 "metadata": {
  "interpreter": {
   "hash": "18da227d6f0e90c910a76d7ca2ade7a64daaa4b543f4f9df168a6e0b9a06bd10"
  },
  "kernelspec": {
   "display_name": "Python 3.9.7 ('base')",
   "language": "python",
   "name": "python3"
  },
  "language_info": {
   "codemirror_mode": {
    "name": "ipython",
    "version": 3
   },
   "file_extension": ".py",
   "mimetype": "text/x-python",
   "name": "python",
   "nbconvert_exporter": "python",
   "pygments_lexer": "ipython3",
   "version": "3.9.7"
  },
  "orig_nbformat": 4
 },
 "nbformat": 4,
 "nbformat_minor": 2
}
