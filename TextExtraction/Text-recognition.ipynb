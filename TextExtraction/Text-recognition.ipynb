{
 "cells": [
  {
   "cell_type": "code",
   "execution_count": 4,
   "metadata": {},
   "outputs": [
    {
     "name": "stdout",
     "output_type": "stream",
     "text": [
      "Requirement already satisfied: easyocr in c:\\users\\deadg\\anaconda3\\lib\\site-packages (1.4.1)\n",
      "Requirement already satisfied: numpy in c:\\users\\deadg\\anaconda3\\lib\\site-packages (from easyocr) (1.18.5)\n",
      "Requirement already satisfied: scikit-image in c:\\users\\deadg\\anaconda3\\lib\\site-packages (from easyocr) (0.16.2)\n",
      "Requirement already satisfied: PyYAML in c:\\users\\deadg\\anaconda3\\lib\\site-packages (from easyocr) (5.3.1)\n",
      "Requirement already satisfied: Pillow<8.3.0 in c:\\users\\deadg\\anaconda3\\lib\\site-packages (from easyocr) (7.2.0)\n",
      "Requirement already satisfied: scipy in c:\\users\\deadg\\anaconda3\\lib\\site-packages (from easyocr) (1.5.0)\n",
      "Requirement already satisfied: torch in c:\\users\\deadg\\anaconda3\\lib\\site-packages (from easyocr) (1.10.2)\n",
      "Requirement already satisfied: python-bidi in c:\\users\\deadg\\anaconda3\\lib\\site-packages (from easyocr) (0.4.2)\n",
      "Requirement already satisfied: torchvision>=0.5 in c:\\users\\deadg\\anaconda3\\lib\\site-packages (from easyocr) (0.11.3)\n",
      "Requirement already satisfied: opencv-python-headless in c:\\users\\deadg\\anaconda3\\lib\\site-packages (from easyocr) (4.5.5.62)\n",
      "Requirement already satisfied: networkx>=2.0 in c:\\users\\deadg\\anaconda3\\lib\\site-packages (from scikit-image->easyocr) (2.4)\n",
      "Requirement already satisfied: PyWavelets>=0.4.0 in c:\\users\\deadg\\anaconda3\\lib\\site-packages (from scikit-image->easyocr) (1.1.1)\n",
      "Requirement already satisfied: imageio>=2.3.0 in c:\\users\\deadg\\anaconda3\\lib\\site-packages (from scikit-image->easyocr) (2.9.0)\n",
      "Requirement already satisfied: matplotlib!=3.0.0,>=2.0.0 in c:\\users\\deadg\\anaconda3\\lib\\site-packages (from scikit-image->easyocr) (3.2.2)\n",
      "Requirement already satisfied: typing-extensions in c:\\users\\deadg\\anaconda3\\lib\\site-packages (from torch->easyocr) (3.7.4.2)\n",
      "Requirement already satisfied: six in c:\\users\\deadg\\anaconda3\\lib\\site-packages (from python-bidi->easyocr) (1.15.0)\n",
      "Requirement already satisfied: decorator>=4.3.0 in c:\\users\\deadg\\anaconda3\\lib\\site-packages (from networkx>=2.0->scikit-image->easyocr) (4.4.2)\n",
      "Requirement already satisfied: cycler>=0.10 in c:\\users\\deadg\\anaconda3\\lib\\site-packages (from matplotlib!=3.0.0,>=2.0.0->scikit-image->easyocr) (0.10.0)\n",
      "Requirement already satisfied: pyparsing!=2.0.4,!=2.1.2,!=2.1.6,>=2.0.1 in c:\\users\\deadg\\anaconda3\\lib\\site-packages (from matplotlib!=3.0.0,>=2.0.0->scikit-image->easyocr) (2.4.7)\n",
      "Requirement already satisfied: kiwisolver>=1.0.1 in c:\\users\\deadg\\anaconda3\\lib\\site-packages (from matplotlib!=3.0.0,>=2.0.0->scikit-image->easyocr) (1.2.0)\n",
      "Requirement already satisfied: python-dateutil>=2.1 in c:\\users\\deadg\\anaconda3\\lib\\site-packages (from matplotlib!=3.0.0,>=2.0.0->scikit-image->easyocr) (2.8.1)\n"
     ]
    }
   ],
   "source": [
    "!pip install easyocr"
   ]
  },
  {
   "cell_type": "code",
   "execution_count": 1,
   "metadata": {},
   "outputs": [],
   "source": [
    "import matplotlib.pyplot as plt\n",
    "import cv2\n",
    "from pylab import rcParams\n",
    "from IPython.display import Image"
   ]
  },
  {
   "cell_type": "code",
   "execution_count": 2,
   "metadata": {},
   "outputs": [],
   "source": [
    "#gaze_positions.csv will give you the cords for the location that the user is staring at.\n",
    "#gaze_point_3d_x - x position of the 3d gaze point (the point the sublejct lookes at) in the world camera coordinate system\n",
    "#gaze_point_3d_y - y position of the 3d gaze point\n",
    "#gaze_point_3d_z - z position of the 3d gaze point\n"
   ]
  },
  {
   "cell_type": "code",
   "execution_count": 3,
   "metadata": {},
   "outputs": [
    {
     "ename": "SyntaxError",
     "evalue": "invalid syntax (<ipython-input-3-1887160e92a6>, line 6)",
     "output_type": "error",
     "traceback": [
      "\u001b[1;36m  File \u001b[1;32m\"<ipython-input-3-1887160e92a6>\"\u001b[1;36m, line \u001b[1;32m6\u001b[0m\n\u001b[1;33m    tsRange =\u001b[0m\n\u001b[1;37m              ^\u001b[0m\n\u001b[1;31mSyntaxError\u001b[0m\u001b[1;31m:\u001b[0m invalid syntax\n"
     ]
    }
   ],
   "source": [
    "#getting the video file\n",
    "#Origin - https://stackoverflow.com/questions/33311153/python-extracting-and-saving-video-frames#:~:text=No.,t%20extract%20more%20than%20that.\n",
    "vidcap=cv2.VideoCapture('\\2022_01_31\\000\\exports\\000\\world.mp4')\n",
    "success,image = vidcap.read()\n",
    "\n",
    "# Get original code and just change the file names to match the selected image\n",
    "\n",
    "count = 0\n",
    "\n",
    "while i >= #lowest timestamp/frame && i <= #highest timestamp/frame\n",
    "    #name of frame, fps, image\n",
    "    cv2.imwrite(\"frame%d.jpg\" %, image)     # save frame as JPEG file      \n",
    "    success,image = vidcap.read()\n",
    "    print('Read a new frame: ', success)\n",
    "    count += 1"
   ]
  },
  {
   "cell_type": "code",
   "execution_count": null,
   "metadata": {},
   "outputs": [],
   "source": []
  }
 ],
 "metadata": {
  "kernelspec": {
   "display_name": "Python 3",
   "language": "python",
   "name": "python3"
  },
  "language_info": {
   "codemirror_mode": {
    "name": "ipython",
    "version": 3
   },
   "file_extension": ".py",
   "mimetype": "text/x-python",
   "name": "python",
   "nbconvert_exporter": "python",
   "pygments_lexer": "ipython3",
   "version": "3.8.3"
  }
 },
 "nbformat": 4,
 "nbformat_minor": 4
}
