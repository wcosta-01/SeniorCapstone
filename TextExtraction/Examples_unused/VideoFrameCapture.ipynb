{
 "cells": [
  {
   "cell_type": "markdown",
   "metadata": {},
   "source": [
    "This Program will take the world index from FrameCapture and extract the exact frames from the video file"
   ]
  },
  {
   "cell_type": "code",
   "execution_count": 1,
   "metadata": {},
   "outputs": [],
   "source": [
    "# https://www.codegrepper.com/code-examples/python/python+split+video+into+frames\n",
    "#  C:/Users/deadg/AppData/Local/Programs/Python/Python310/python.exe needs to be rain from this exe idk where its getting the other from because it no longer exists\n",
    "import cv2\n",
    "vidcap = cv2.VideoCapture(r'C:/Users/deadg/OneDrive/Documents/GithubRep/SeniorCapstone/TextExtraction/ExportedData/OldTestData/world.mp4')\n",
    "success,image = vidcap.read()\n",
    "count = 0\n",
    "while success:\n",
    "  cv2.imwrite(\"C:/Users/deadg/OneDrive/Documents/GithubRep/SeniorCapstone/TextExtraction/Frames/frame%d.jpg\" % count, image)     # save frame as JPEG file\n",
    "  success,image = vidcap.read()\n",
    "  print('Read a new frame: ', success)#delete this later\n",
    "  count += 1"
   ]
  }
 ],
 "metadata": {
  "interpreter": {
   "hash": "19491e59d5949c78898f6b7a1eeb59c5ec38491a6c7e455f2931a6691028060e"
  },
  "kernelspec": {
   "display_name": "Python 3.8.5 32-bit",
   "language": "python",
   "name": "python3"
  },
  "language_info": {
   "codemirror_mode": {
    "name": "ipython",
    "version": 3
   },
   "file_extension": ".py",
   "mimetype": "text/x-python",
   "name": "python",
   "nbconvert_exporter": "python",
   "pygments_lexer": "ipython3",
   "version": "3.10.1"
  },
  "orig_nbformat": 4
 },
 "nbformat": 4,
 "nbformat_minor": 2
}
